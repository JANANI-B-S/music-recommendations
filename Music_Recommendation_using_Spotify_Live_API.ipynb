{
  "nbformat": 4,
  "nbformat_minor": 0,
  "metadata": {
    "colab": {
      "provenance": [],
      "authorship_tag": "ABX9TyNnPiFCXFhJylh1NniXjGz1",
      "include_colab_link": true
    },
    "kernelspec": {
      "name": "python3",
      "display_name": "Python 3"
    },
    "language_info": {
      "name": "python"
    }
  },
  "cells": [
    {
      "cell_type": "markdown",
      "metadata": {
        "id": "view-in-github",
        "colab_type": "text"
      },
      "source": [
        "<a href=\"https://colab.research.google.com/github/JANANI-B-S/music-recommendations/blob/main/Music_Recommendation_using_Spotify_Live_API.ipynb\" target=\"_parent\"><img src=\"https://colab.research.google.com/assets/colab-badge.svg\" alt=\"Open In Colab\"/></a>"
      ]
    },
    {
      "cell_type": "code",
      "source": [
        "!pip install spotipy requests\n",
        "\n",
        "\n"
      ],
      "metadata": {
        "colab": {
          "base_uri": "https://localhost:8080/"
        },
        "id": "6M8eLpdI_wz7",
        "outputId": "089db898-0646-45c8-bbe5-cadc0a5ac6fa"
      },
      "execution_count": 28,
      "outputs": [
        {
          "output_type": "stream",
          "name": "stdout",
          "text": [
            "Requirement already satisfied: spotipy in /usr/local/lib/python3.10/dist-packages (2.24.0)\n",
            "Requirement already satisfied: requests in /usr/local/lib/python3.10/dist-packages (2.32.3)\n",
            "Requirement already satisfied: redis>=3.5.3 in /usr/local/lib/python3.10/dist-packages (from spotipy) (5.1.0)\n",
            "Requirement already satisfied: urllib3>=1.26.0 in /usr/local/lib/python3.10/dist-packages (from spotipy) (2.2.3)\n",
            "Requirement already satisfied: charset-normalizer<4,>=2 in /usr/local/lib/python3.10/dist-packages (from requests) (3.3.2)\n",
            "Requirement already satisfied: idna<4,>=2.5 in /usr/local/lib/python3.10/dist-packages (from requests) (3.10)\n",
            "Requirement already satisfied: certifi>=2017.4.17 in /usr/local/lib/python3.10/dist-packages (from requests) (2024.8.30)\n",
            "Requirement already satisfied: async-timeout>=4.0.3 in /usr/local/lib/python3.10/dist-packages (from redis>=3.5.3->spotipy) (4.0.3)\n"
          ]
        }
      ]
    },
    {
      "cell_type": "code",
      "source": [
        "import spotipy\n",
        "from spotipy.oauth2 import SpotifyClientCredentials\n",
        "import requests\n"
      ],
      "metadata": {
        "id": "iq2eU2hDD8HR"
      },
      "execution_count": 29,
      "outputs": []
    },
    {
      "cell_type": "code",
      "source": [
        "# Set up your Spotify Developer credentials\n",
        "CLIENT_ID = '8eaa7eeb81c14c118a813a61f1e9f56c'\n",
        "CLIENT_SECRET = '2e82d9ef4bcd4932a351341f37c4f20f'\n",
        "\n",
        "# Authenticate using Spotify's Client Credentials Flow\n",
        "auth_manager = SpotifyClientCredentials(client_id=CLIENT_ID, client_secret=CLIENT_SECRET)\n",
        "sp = spotipy.Spotify(auth_manager=auth_manager)\n"
      ],
      "metadata": {
        "id": "Hr0mYYaqEBSi"
      },
      "execution_count": 31,
      "outputs": []
    },
    {
      "cell_type": "code",
      "source": [
        "def search_song(song_name):\n",
        "    results = sp.search(q=song_name, type='track', limit=1)  # Search for the track\n",
        "    if results['tracks']['items']:\n",
        "        track = results['tracks']['items'][0]\n",
        "        track_name = track['name']\n",
        "        artist_name = track['artists'][0]['name']\n",
        "        track_id = track['id']\n",
        "        print(f\"Found: {track_name} by {artist_name}\")\n",
        "        return track_id\n",
        "    else:\n",
        "        print(\"Song not found\")\n",
        "        return None\n"
      ],
      "metadata": {
        "id": "Gv9U4_ylEPj3"
      },
      "execution_count": 32,
      "outputs": []
    },
    {
      "cell_type": "code",
      "source": [
        "def get_recommendations(track_id):\n",
        "    recommendations = sp.recommendations(seed_tracks=[track_id], limit=10)  # Fetch recommendations based on the track\n",
        "    print(\"\\nRecommended songs:\")\n",
        "    for idx, track in enumerate(recommendations['tracks']):\n",
        "        track_name = track['name']\n",
        "        artist_name = track['artists'][0]['name']\n",
        "        print(f\"{idx + 1}. {track_name} by {artist_name}\")\n"
      ],
      "metadata": {
        "id": "vzz-6sUCERFv"
      },
      "execution_count": 33,
      "outputs": []
    },
    {
      "cell_type": "code",
      "source": [
        "# Ask the user to enter a song name\n",
        "song_name = input(\"Enter a song name: \")\n",
        "\n",
        "# Search for the song and get its track ID\n",
        "track_id = search_song(song_name)\n",
        "\n",
        "# If the song is found, get recommendations\n",
        "if track_id:\n",
        "    get_recommendations(track_id)\n"
      ],
      "metadata": {
        "colab": {
          "base_uri": "https://localhost:8080/"
        },
        "id": "5xdYqKJJEXVR",
        "outputId": "54c1e503-d08c-408c-efce-ea4e0b42a124"
      },
      "execution_count": 34,
      "outputs": [
        {
          "output_type": "stream",
          "name": "stdout",
          "text": [
            "Enter a song name: vaathi coming\n",
            "Found: Vaathi Coming (From \"Master\") by Anirudh Ravichander\n",
            "\n",
            "Recommended songs:\n",
            "1. Senjitaley by Anirudh Ravichander\n",
            "2. Thozhi by Govind Vasantha\n",
            "3. Nenu Nuvvantu by Naresh Iyer\n",
            "4. Adada Adada by Siddharth\n",
            "5. Vaaya Veera by Shakthisree Gopalan\n",
            "6. Armadham by Sushin Shyam\n",
            "7. En Kadhal Solla by Yuvan Shankar Raja\n",
            "8. Vandha Edam (From \"Jawan\") by Anirudh Ravichander\n",
            "9. Aaro Nee Aaro - From \"Urumi\" by Shweta Mohan\n",
            "10. Dum Masala by Thaman S\n"
          ]
        }
      ]
    }
  ]
}